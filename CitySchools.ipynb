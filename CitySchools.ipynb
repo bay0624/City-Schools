{
 "cells": [
  {
   "cell_type": "code",
   "execution_count": 1,
   "metadata": {},
   "outputs": [
    {
     "data": {
      "text/html": [
       "<div>\n",
       "<style scoped>\n",
       "    .dataframe tbody tr th:only-of-type {\n",
       "        vertical-align: middle;\n",
       "    }\n",
       "\n",
       "    .dataframe tbody tr th {\n",
       "        vertical-align: top;\n",
       "    }\n",
       "\n",
       "    .dataframe thead th {\n",
       "        text-align: right;\n",
       "    }\n",
       "</style>\n",
       "<table border=\"1\" class=\"dataframe\">\n",
       "  <thead>\n",
       "    <tr style=\"text-align: right;\">\n",
       "      <th></th>\n",
       "      <th>Student ID</th>\n",
       "      <th>student_name</th>\n",
       "      <th>gender</th>\n",
       "      <th>grade</th>\n",
       "      <th>school_name</th>\n",
       "      <th>reading_score</th>\n",
       "      <th>math_score</th>\n",
       "      <th>School ID</th>\n",
       "      <th>type</th>\n",
       "      <th>size</th>\n",
       "      <th>budget</th>\n",
       "    </tr>\n",
       "  </thead>\n",
       "  <tbody>\n",
       "    <tr>\n",
       "      <th>0</th>\n",
       "      <td>0</td>\n",
       "      <td>Paul Bradley</td>\n",
       "      <td>M</td>\n",
       "      <td>9th</td>\n",
       "      <td>Huang High School</td>\n",
       "      <td>66</td>\n",
       "      <td>79</td>\n",
       "      <td>0</td>\n",
       "      <td>District</td>\n",
       "      <td>2917</td>\n",
       "      <td>1910635</td>\n",
       "    </tr>\n",
       "    <tr>\n",
       "      <th>1</th>\n",
       "      <td>1</td>\n",
       "      <td>Victor Smith</td>\n",
       "      <td>M</td>\n",
       "      <td>12th</td>\n",
       "      <td>Huang High School</td>\n",
       "      <td>94</td>\n",
       "      <td>61</td>\n",
       "      <td>0</td>\n",
       "      <td>District</td>\n",
       "      <td>2917</td>\n",
       "      <td>1910635</td>\n",
       "    </tr>\n",
       "    <tr>\n",
       "      <th>2</th>\n",
       "      <td>2</td>\n",
       "      <td>Kevin Rodriguez</td>\n",
       "      <td>M</td>\n",
       "      <td>12th</td>\n",
       "      <td>Huang High School</td>\n",
       "      <td>90</td>\n",
       "      <td>60</td>\n",
       "      <td>0</td>\n",
       "      <td>District</td>\n",
       "      <td>2917</td>\n",
       "      <td>1910635</td>\n",
       "    </tr>\n",
       "    <tr>\n",
       "      <th>3</th>\n",
       "      <td>3</td>\n",
       "      <td>Dr. Richard Scott</td>\n",
       "      <td>M</td>\n",
       "      <td>12th</td>\n",
       "      <td>Huang High School</td>\n",
       "      <td>67</td>\n",
       "      <td>58</td>\n",
       "      <td>0</td>\n",
       "      <td>District</td>\n",
       "      <td>2917</td>\n",
       "      <td>1910635</td>\n",
       "    </tr>\n",
       "    <tr>\n",
       "      <th>4</th>\n",
       "      <td>4</td>\n",
       "      <td>Bonnie Ray</td>\n",
       "      <td>F</td>\n",
       "      <td>9th</td>\n",
       "      <td>Huang High School</td>\n",
       "      <td>97</td>\n",
       "      <td>84</td>\n",
       "      <td>0</td>\n",
       "      <td>District</td>\n",
       "      <td>2917</td>\n",
       "      <td>1910635</td>\n",
       "    </tr>\n",
       "    <tr>\n",
       "      <th>5</th>\n",
       "      <td>5</td>\n",
       "      <td>Bryan Miranda</td>\n",
       "      <td>M</td>\n",
       "      <td>9th</td>\n",
       "      <td>Huang High School</td>\n",
       "      <td>94</td>\n",
       "      <td>94</td>\n",
       "      <td>0</td>\n",
       "      <td>District</td>\n",
       "      <td>2917</td>\n",
       "      <td>1910635</td>\n",
       "    </tr>\n",
       "    <tr>\n",
       "      <th>6</th>\n",
       "      <td>6</td>\n",
       "      <td>Sheena Carter</td>\n",
       "      <td>F</td>\n",
       "      <td>11th</td>\n",
       "      <td>Huang High School</td>\n",
       "      <td>82</td>\n",
       "      <td>80</td>\n",
       "      <td>0</td>\n",
       "      <td>District</td>\n",
       "      <td>2917</td>\n",
       "      <td>1910635</td>\n",
       "    </tr>\n",
       "    <tr>\n",
       "      <th>7</th>\n",
       "      <td>7</td>\n",
       "      <td>Nicole Baker</td>\n",
       "      <td>F</td>\n",
       "      <td>12th</td>\n",
       "      <td>Huang High School</td>\n",
       "      <td>96</td>\n",
       "      <td>69</td>\n",
       "      <td>0</td>\n",
       "      <td>District</td>\n",
       "      <td>2917</td>\n",
       "      <td>1910635</td>\n",
       "    </tr>\n",
       "    <tr>\n",
       "      <th>8</th>\n",
       "      <td>8</td>\n",
       "      <td>Michael Roth</td>\n",
       "      <td>M</td>\n",
       "      <td>10th</td>\n",
       "      <td>Huang High School</td>\n",
       "      <td>95</td>\n",
       "      <td>87</td>\n",
       "      <td>0</td>\n",
       "      <td>District</td>\n",
       "      <td>2917</td>\n",
       "      <td>1910635</td>\n",
       "    </tr>\n",
       "    <tr>\n",
       "      <th>9</th>\n",
       "      <td>9</td>\n",
       "      <td>Matthew Greene</td>\n",
       "      <td>M</td>\n",
       "      <td>10th</td>\n",
       "      <td>Huang High School</td>\n",
       "      <td>96</td>\n",
       "      <td>84</td>\n",
       "      <td>0</td>\n",
       "      <td>District</td>\n",
       "      <td>2917</td>\n",
       "      <td>1910635</td>\n",
       "    </tr>\n",
       "  </tbody>\n",
       "</table>\n",
       "</div>"
      ],
      "text/plain": [
       "   Student ID       student_name gender grade        school_name  \\\n",
       "0           0       Paul Bradley      M   9th  Huang High School   \n",
       "1           1       Victor Smith      M  12th  Huang High School   \n",
       "2           2    Kevin Rodriguez      M  12th  Huang High School   \n",
       "3           3  Dr. Richard Scott      M  12th  Huang High School   \n",
       "4           4         Bonnie Ray      F   9th  Huang High School   \n",
       "5           5      Bryan Miranda      M   9th  Huang High School   \n",
       "6           6      Sheena Carter      F  11th  Huang High School   \n",
       "7           7       Nicole Baker      F  12th  Huang High School   \n",
       "8           8       Michael Roth      M  10th  Huang High School   \n",
       "9           9     Matthew Greene      M  10th  Huang High School   \n",
       "\n",
       "   reading_score  math_score  School ID      type  size   budget  \n",
       "0             66          79          0  District  2917  1910635  \n",
       "1             94          61          0  District  2917  1910635  \n",
       "2             90          60          0  District  2917  1910635  \n",
       "3             67          58          0  District  2917  1910635  \n",
       "4             97          84          0  District  2917  1910635  \n",
       "5             94          94          0  District  2917  1910635  \n",
       "6             82          80          0  District  2917  1910635  \n",
       "7             96          69          0  District  2917  1910635  \n",
       "8             95          87          0  District  2917  1910635  \n",
       "9             96          84          0  District  2917  1910635  "
      ]
     },
     "execution_count": 1,
     "metadata": {},
     "output_type": "execute_result"
    }
   ],
   "source": [
    "import pandas as pd\n",
    "import numpy as np\n",
    "\n",
    "school_data_to_load = \"Resources/schools_complete.csv\"\n",
    "student_data_to_load = \"Resources/students_complete.csv\"\n",
    "\n",
    "school_data = pd.read_csv(school_data_to_load)\n",
    "student_data = pd.read_csv(student_data_to_load)\n",
    " \n",
    "school_data_complete = pd.merge(student_data, school_data, how=\"left\", on=[\"school_name\", \"school_name\"])\n",
    "school_data_complete.head(10)"
   ]
  },
  {
   "cell_type": "code",
   "execution_count": 2,
   "metadata": {},
   "outputs": [
    {
     "data": {
      "text/plain": [
       "(39170, 11)"
      ]
     },
     "execution_count": 2,
     "metadata": {},
     "output_type": "execute_result"
    }
   ],
   "source": [
    "school_data_complete.shape"
   ]
  },
  {
   "cell_type": "markdown",
   "metadata": {},
   "source": [
    "## District Summary\n",
    "\n",
    "* Total number of schools\n",
    "\n",
    "* Total number of students\n",
    "\n",
    "* Total budget\n",
    "\n",
    "* Average math score \n",
    "\n",
    "* Average reading score\n",
    "\n",
    "* Percentage of students with a passing math score (70 or greater)\n",
    "\n",
    "* Percentage of students with a passing reading score (70 or greater)\n",
    "\n",
    "* Percentage of students who passed math **and** reading (% Overall Passing)"
   ]
  },
  {
   "cell_type": "code",
   "execution_count": 3,
   "metadata": {},
   "outputs": [
    {
     "data": {
      "text/plain": [
       "15"
      ]
     },
     "execution_count": 3,
     "metadata": {},
     "output_type": "execute_result"
    }
   ],
   "source": [
    "# Total Number of Schools\n",
    "total_schools = len(school_data_complete[\"school_name\"].unique().tolist())\n",
    "total_schools"
   ]
  },
  {
   "cell_type": "code",
   "execution_count": 4,
   "metadata": {},
   "outputs": [
    {
     "data": {
      "text/plain": [
       "39170"
      ]
     },
     "execution_count": 4,
     "metadata": {},
     "output_type": "execute_result"
    }
   ],
   "source": [
    "# Total Number of Students\n",
    "total_students = school_data_complete[\"budget\"].count()\n",
    "total_students"
   ]
  },
  {
   "cell_type": "code",
   "execution_count": 5,
   "metadata": {},
   "outputs": [
    {
     "data": {
      "text/plain": [
       "24649428"
      ]
     },
     "execution_count": 5,
     "metadata": {},
     "output_type": "execute_result"
    }
   ],
   "source": [
    "# Total budget\n",
    "total_budget = school_data_complete[\"budget\"].unique().sum()\n",
    "total_budget"
   ]
  },
  {
   "cell_type": "code",
   "execution_count": 6,
   "metadata": {},
   "outputs": [
    {
     "data": {
      "text/plain": [
       "78.98537145774827"
      ]
     },
     "execution_count": 6,
     "metadata": {},
     "output_type": "execute_result"
    }
   ],
   "source": [
    "# Average math score\n",
    "avg_math_score = school_data_complete[\"math_score\"].mean()\n",
    "avg_math_score"
   ]
  },
  {
   "cell_type": "code",
   "execution_count": 7,
   "metadata": {},
   "outputs": [
    {
     "data": {
      "text/plain": [
       "81.87784018381414"
      ]
     },
     "execution_count": 7,
     "metadata": {},
     "output_type": "execute_result"
    }
   ],
   "source": [
    "# Average reading score\n",
    "avg_reading_score = school_data_complete[\"reading_score\"].mean()\n",
    "avg_reading_score"
   ]
  },
  {
   "cell_type": "code",
   "execution_count": 8,
   "metadata": {},
   "outputs": [
    {
     "data": {
      "text/plain": [
       "74.9808526933878"
      ]
     },
     "execution_count": 8,
     "metadata": {},
     "output_type": "execute_result"
    }
   ],
   "source": [
    "# Percentage of students with a passing math score (70 or greater)\n",
    "math_scores_table = school_data_complete[school_data_complete[\"math_score\"] >= 70]\n",
    "percent_math_scores_over_70 = len(math_scores_table[\"student_name\"])/len(school_data_complete[\"student_name\"])*100\n",
    "percent_math_scores_over_70"
   ]
  },
  {
   "cell_type": "code",
   "execution_count": 9,
   "metadata": {},
   "outputs": [
    {
     "data": {
      "text/plain": [
       "85.80546336482001"
      ]
     },
     "execution_count": 9,
     "metadata": {},
     "output_type": "execute_result"
    }
   ],
   "source": [
    "# Percentage of students with a passing reading score (70 or greater)\n",
    "reading_scores_table = school_data_complete[school_data_complete[\"reading_score\"] >= 70]\n",
    "percent_reading_scores_over_70 = len(reading_scores_table[\"student_name\"])/len(school_data_complete[\"student_name\"])*100\n",
    "percent_reading_scores_over_70"
   ]
  },
  {
   "cell_type": "code",
   "execution_count": 10,
   "metadata": {},
   "outputs": [
    {
     "data": {
      "text/plain": [
       "65.17232575950983"
      ]
     },
     "execution_count": 10,
     "metadata": {},
     "output_type": "execute_result"
    }
   ],
   "source": [
    "# Percentage of students who passed math and reading (% Overall Passing)\n",
    "math_and_reading_table = school_data_complete[(school_data_complete[\"math_score\"] >= 70) & \n",
    "                                              (school_data_complete[\"reading_score\"] >= 70)]\n",
    "percent_math_and_reading_pass = len(math_and_reading_table[\"student_name\"])/len(school_data_complete[\"student_name\"])*100\n",
    "percent_math_and_reading_pass"
   ]
  },
  {
   "cell_type": "code",
   "execution_count": 11,
   "metadata": {},
   "outputs": [
    {
     "data": {
      "text/html": [
       "<div>\n",
       "<style scoped>\n",
       "    .dataframe tbody tr th:only-of-type {\n",
       "        vertical-align: middle;\n",
       "    }\n",
       "\n",
       "    .dataframe tbody tr th {\n",
       "        vertical-align: top;\n",
       "    }\n",
       "\n",
       "    .dataframe thead th {\n",
       "        text-align: right;\n",
       "    }\n",
       "</style>\n",
       "<table border=\"1\" class=\"dataframe\">\n",
       "  <thead>\n",
       "    <tr style=\"text-align: right;\">\n",
       "      <th></th>\n",
       "      <th>Total Schools</th>\n",
       "      <th>Total Students</th>\n",
       "      <th>Total Budget</th>\n",
       "      <th>Average Math Score</th>\n",
       "      <th>Average Reading Score</th>\n",
       "      <th>% Math Passed</th>\n",
       "      <th>% Reading Passed</th>\n",
       "      <th>% Math and Reading Passed</th>\n",
       "    </tr>\n",
       "  </thead>\n",
       "  <tbody>\n",
       "    <tr>\n",
       "      <th>0</th>\n",
       "      <td>15</td>\n",
       "      <td>39,170</td>\n",
       "      <td>$24,649,428</td>\n",
       "      <td>78.99</td>\n",
       "      <td>81.88</td>\n",
       "      <td>74.98%</td>\n",
       "      <td>85.81%</td>\n",
       "      <td>65.17%</td>\n",
       "    </tr>\n",
       "  </tbody>\n",
       "</table>\n",
       "</div>"
      ],
      "text/plain": [
       "   Total Schools Total Students Total Budget Average Math Score  \\\n",
       "0             15         39,170  $24,649,428              78.99   \n",
       "\n",
       "  Average Reading Score % Math Passed % Reading Passed  \\\n",
       "0                 81.88        74.98%           85.81%   \n",
       "\n",
       "  % Math and Reading Passed  \n",
       "0                    65.17%  "
      ]
     },
     "execution_count": 11,
     "metadata": {},
     "output_type": "execute_result"
    }
   ],
   "source": [
    "school_district_summary = {\"Total Schools\": [total_schools], \n",
    "                           \"Total Students\": [total_students], \n",
    "                           \"Total Budget\": [total_budget], \n",
    "                           \"Average Math Score\": [avg_math_score], \n",
    "                           \"Average Reading Score\": [avg_reading_score], \n",
    "                           \"% Math Passed\": [percent_math_scores_over_70], \n",
    "                           \"% Reading Passed\": [percent_reading_scores_over_70], \n",
    "                           \"% Math and Reading Passed\": [percent_math_and_reading_pass]}\n",
    "\n",
    "school_district_summary_df = pd.DataFrame(school_district_summary)\n",
    "school_district_summary_df[\"Total Students\"] = school_district_summary_df[\"Total Students\"].map(\"{:,.0f}\".format)\n",
    "school_district_summary_df[\"Total Budget\"] = school_district_summary_df[\"Total Budget\"].map(\"${:,.0f}\".format)\n",
    "school_district_summary_df[\"Average Math Score\"] = school_district_summary_df[\"Average Math Score\"].map(\"{:,.2f}\".format)\n",
    "school_district_summary_df[\"Average Reading Score\"] = school_district_summary_df[\"Average Reading Score\"].map(\"{:,.2f}\".format)\n",
    "school_district_summary_df[\"% Math Passed\"] = school_district_summary_df[\"% Math Passed\"].map(\"{:,.2f}%\".format)\n",
    "school_district_summary_df[\"% Reading Passed\"] = school_district_summary_df[\"% Reading Passed\"].map(\"{:,.2f}%\".format)\n",
    "school_district_summary_df[\"% Math and Reading Passed\"] = school_district_summary_df[\"% Math and Reading Passed\"].map(\"{:,.2f}%\".format)\n",
    "school_district_summary_df"
   ]
  },
  {
   "cell_type": "markdown",
   "metadata": {},
   "source": [
    "## School Summary"
   ]
  },
  {
   "cell_type": "markdown",
   "metadata": {},
   "source": [
    "* Overview table summarizing key metrics about each school, including:\n",
    "  * School Name\n",
    "  * School Type\n",
    "  * Total Students\n",
    "  * Total School Budget\n",
    "  * Per Student Budget\n",
    "  * Average Math Score\n",
    "  * Average Reading Score\n",
    "  * % Passing Math\n",
    "  * % Passing Reading\n",
    "  * % Overall Passing (The percentage of students that passed math **and** reading.)"
   ]
  },
  {
   "cell_type": "code",
   "execution_count": 12,
   "metadata": {},
   "outputs": [
    {
     "data": {
      "text/html": [
       "<div>\n",
       "<style scoped>\n",
       "    .dataframe tbody tr th:only-of-type {\n",
       "        vertical-align: middle;\n",
       "    }\n",
       "\n",
       "    .dataframe tbody tr th {\n",
       "        vertical-align: top;\n",
       "    }\n",
       "\n",
       "    .dataframe thead th {\n",
       "        text-align: right;\n",
       "    }\n",
       "</style>\n",
       "<table border=\"1\" class=\"dataframe\">\n",
       "  <thead>\n",
       "    <tr style=\"text-align: right;\">\n",
       "      <th></th>\n",
       "      <th>school_name</th>\n",
       "      <th>type</th>\n",
       "      <th>student_name</th>\n",
       "      <th>math_score</th>\n",
       "      <th>reading_score</th>\n",
       "    </tr>\n",
       "  </thead>\n",
       "  <tbody>\n",
       "    <tr>\n",
       "      <th>0</th>\n",
       "      <td>Bailey High School</td>\n",
       "      <td>[District]</td>\n",
       "      <td>4976</td>\n",
       "      <td>77.048432</td>\n",
       "      <td>81.033963</td>\n",
       "    </tr>\n",
       "    <tr>\n",
       "      <th>1</th>\n",
       "      <td>Cabrera High School</td>\n",
       "      <td>[Charter]</td>\n",
       "      <td>1858</td>\n",
       "      <td>83.061895</td>\n",
       "      <td>83.975780</td>\n",
       "    </tr>\n",
       "    <tr>\n",
       "      <th>2</th>\n",
       "      <td>Figueroa High School</td>\n",
       "      <td>[District]</td>\n",
       "      <td>2949</td>\n",
       "      <td>76.711767</td>\n",
       "      <td>81.158020</td>\n",
       "    </tr>\n",
       "    <tr>\n",
       "      <th>3</th>\n",
       "      <td>Ford High School</td>\n",
       "      <td>[District]</td>\n",
       "      <td>2739</td>\n",
       "      <td>77.102592</td>\n",
       "      <td>80.746258</td>\n",
       "    </tr>\n",
       "    <tr>\n",
       "      <th>4</th>\n",
       "      <td>Griffin High School</td>\n",
       "      <td>[Charter]</td>\n",
       "      <td>1468</td>\n",
       "      <td>83.351499</td>\n",
       "      <td>83.816757</td>\n",
       "    </tr>\n",
       "    <tr>\n",
       "      <th>5</th>\n",
       "      <td>Hernandez High School</td>\n",
       "      <td>[District]</td>\n",
       "      <td>4635</td>\n",
       "      <td>77.289752</td>\n",
       "      <td>80.934412</td>\n",
       "    </tr>\n",
       "    <tr>\n",
       "      <th>6</th>\n",
       "      <td>Holden High School</td>\n",
       "      <td>[Charter]</td>\n",
       "      <td>427</td>\n",
       "      <td>83.803279</td>\n",
       "      <td>83.814988</td>\n",
       "    </tr>\n",
       "    <tr>\n",
       "      <th>7</th>\n",
       "      <td>Huang High School</td>\n",
       "      <td>[District]</td>\n",
       "      <td>2917</td>\n",
       "      <td>76.629414</td>\n",
       "      <td>81.182722</td>\n",
       "    </tr>\n",
       "    <tr>\n",
       "      <th>8</th>\n",
       "      <td>Johnson High School</td>\n",
       "      <td>[District]</td>\n",
       "      <td>4761</td>\n",
       "      <td>77.072464</td>\n",
       "      <td>80.966394</td>\n",
       "    </tr>\n",
       "    <tr>\n",
       "      <th>9</th>\n",
       "      <td>Pena High School</td>\n",
       "      <td>[Charter]</td>\n",
       "      <td>962</td>\n",
       "      <td>83.839917</td>\n",
       "      <td>84.044699</td>\n",
       "    </tr>\n",
       "    <tr>\n",
       "      <th>10</th>\n",
       "      <td>Rodriguez High School</td>\n",
       "      <td>[District]</td>\n",
       "      <td>3999</td>\n",
       "      <td>76.842711</td>\n",
       "      <td>80.744686</td>\n",
       "    </tr>\n",
       "    <tr>\n",
       "      <th>11</th>\n",
       "      <td>Shelton High School</td>\n",
       "      <td>[Charter]</td>\n",
       "      <td>1761</td>\n",
       "      <td>83.359455</td>\n",
       "      <td>83.725724</td>\n",
       "    </tr>\n",
       "    <tr>\n",
       "      <th>12</th>\n",
       "      <td>Thomas High School</td>\n",
       "      <td>[Charter]</td>\n",
       "      <td>1635</td>\n",
       "      <td>83.418349</td>\n",
       "      <td>83.848930</td>\n",
       "    </tr>\n",
       "    <tr>\n",
       "      <th>13</th>\n",
       "      <td>Wilson High School</td>\n",
       "      <td>[Charter]</td>\n",
       "      <td>2283</td>\n",
       "      <td>83.274201</td>\n",
       "      <td>83.989488</td>\n",
       "    </tr>\n",
       "    <tr>\n",
       "      <th>14</th>\n",
       "      <td>Wright High School</td>\n",
       "      <td>[Charter]</td>\n",
       "      <td>1800</td>\n",
       "      <td>83.682222</td>\n",
       "      <td>83.955000</td>\n",
       "    </tr>\n",
       "  </tbody>\n",
       "</table>\n",
       "</div>"
      ],
      "text/plain": [
       "              school_name        type  student_name  math_score  reading_score\n",
       "0      Bailey High School  [District]          4976   77.048432      81.033963\n",
       "1     Cabrera High School   [Charter]          1858   83.061895      83.975780\n",
       "2    Figueroa High School  [District]          2949   76.711767      81.158020\n",
       "3        Ford High School  [District]          2739   77.102592      80.746258\n",
       "4     Griffin High School   [Charter]          1468   83.351499      83.816757\n",
       "5   Hernandez High School  [District]          4635   77.289752      80.934412\n",
       "6      Holden High School   [Charter]           427   83.803279      83.814988\n",
       "7       Huang High School  [District]          2917   76.629414      81.182722\n",
       "8     Johnson High School  [District]          4761   77.072464      80.966394\n",
       "9        Pena High School   [Charter]           962   83.839917      84.044699\n",
       "10  Rodriguez High School  [District]          3999   76.842711      80.744686\n",
       "11    Shelton High School   [Charter]          1761   83.359455      83.725724\n",
       "12     Thomas High School   [Charter]          1635   83.418349      83.848930\n",
       "13     Wilson High School   [Charter]          2283   83.274201      83.989488\n",
       "14     Wright High School   [Charter]          1800   83.682222      83.955000"
      ]
     },
     "execution_count": 12,
     "metadata": {},
     "output_type": "execute_result"
    }
   ],
   "source": [
    "school_data_grouped = school_data_complete.groupby(\"school_name\").agg({\"type\": \"unique\", \"student_name\": \"count\", \n",
    "                                                                       \"math_score\": \"mean\", \"reading_score\": \"mean\"\n",
    "                                                                      })\n",
    "                                        \n",
    "school_data_no_index = school_data_grouped.reset_index()\n",
    "school_data_no_index"
   ]
  },
  {
   "cell_type": "code",
   "execution_count": 13,
   "metadata": {},
   "outputs": [
    {
     "name": "stdout",
     "output_type": "stream",
     "text": [
      "[3124928, 1081356, 1884411, 1763916, 917500, 3022020, 248087, 1910635, 3094650, 585858, 2547363, 1056600, 1043130, 1319574, 1049400] 15\n"
     ]
    }
   ],
   "source": [
    "# Total Budget per School\n",
    "total_budget = school_data_complete.groupby([\"school_name\", \"budget\"]).sum().reset_index()\n",
    "totat_school_budget = list(total_budget[\"budget\"])\n",
    "print(totat_school_budget, len(totat_school_budget))"
   ]
  },
  {
   "cell_type": "code",
   "execution_count": 14,
   "metadata": {},
   "outputs": [
    {
     "name": "stdout",
     "output_type": "stream",
     "text": [
      "[628.0, 582.0, 639.0, 644.0, 625.0, 652.0, 581.0, 655.0, 650.0, 609.0, 637.0, 600.0, 638.0, 578.0, 583.0] 15\n"
     ]
    }
   ],
   "source": [
    "# Total Budget per Student\n",
    "student_counts = list(school_data_grouped[\"student_name\"])\n",
    "per_student_budget = [j/i for i, j in zip(student_counts, totat_school_budget)]\n",
    "print(per_student_budget, len(per_student_budget))"
   ]
  },
  {
   "cell_type": "code",
   "execution_count": 15,
   "metadata": {},
   "outputs": [
    {
     "name": "stdout",
     "output_type": "stream",
     "text": [
      "[66.68006430868168, 94.1334768568353, 65.98847066802306, 68.3096020445418, 93.39237057220708, 66.7529665587918, 92.50585480093677, 65.68392183750429, 66.0575509346776, 94.5945945945946, 66.36659164791197, 93.8671209540034, 93.27217125382263, 93.8677179150241, 93.33333333333333] 15\n"
     ]
    }
   ],
   "source": [
    "# % Passing Math\n",
    "math_pass_per_school = school_data_complete.groupby([\"school_name\", \n",
    "                                                     school_data_complete[\"math_score\"] >= 70])\n",
    "x = list(math_pass_per_school.count()[\"Student ID\"])\n",
    "num_of_pass_math = x[1::2]\n",
    "percent_math_per_school = [i/j*100 for i, j in zip(num_of_pass_math, student_counts)]\n",
    "print(percent_math_per_school, len(percent_math_per_school))"
   ]
  },
  {
   "cell_type": "code",
   "execution_count": 16,
   "metadata": {},
   "outputs": [
    {
     "name": "stdout",
     "output_type": "stream",
     "text": [
      "[81.93327974276528, 97.03982777179763, 80.73923363852154, 79.29901423877328, 97.13896457765668, 80.86299892125135, 96.25292740046838, 81.31642098045938, 81.2224322621298, 95.94594594594594, 80.22005501375344, 95.85462805224304, 97.30886850152906, 96.53964082347788, 96.61111111111111] 15\n"
     ]
    }
   ],
   "source": [
    "# % Passing Reading\n",
    "reading_pass_per_school = school_data_complete.groupby([\"school_name\", \n",
    "                                                     school_data_complete[\"reading_score\"] >= 70])\n",
    "y = list(reading_pass_per_school.count()[\"Student ID\"])\n",
    "num_of_pass_reading = y[1::2]\n",
    "percent_reading_per_school = [(i/j)*100 for i, j in zip(num_of_pass_reading, student_counts)]\n",
    "print(percent_reading_per_school, len(percent_reading_per_school))"
   ]
  },
  {
   "cell_type": "code",
   "execution_count": 17,
   "metadata": {},
   "outputs": [
    {
     "name": "stdout",
     "output_type": "stream",
     "text": [
      "[30.345659163987136, 50.861141011840694, 30.111902339776197, 30.48557867834976, 50.13623978201635, 31.024811218985977, 49.64871194379391, 29.51662667123757, 30.18273471959672, 49.8960498960499, 29.607401850462615, 49.74446337308348, 51.19266055045871, 49.89049496276829, 51.55555555555556] 15\n"
     ]
    }
   ],
   "source": [
    "# % Overall Passing\n",
    "overall_pass_per_school = school_data_complete.groupby([\"school_name\", \n",
    "                                                     school_data_complete[\"reading_score\"] \n",
    "                                                        & school_data_complete[\"math_score\"] >= 70])\n",
    "z = list(overall_pass_per_school.count()[\"Student ID\"])\n",
    "num_of_overall_pass = z[1::2]\n",
    "percent_overall_pass_per_school = [(i/j)*100 for i, j in zip(num_of_overall_pass, student_counts)]\n",
    "print(percent_overall_pass_per_school, len(percent_overall_pass_per_school))"
   ]
  },
  {
   "cell_type": "code",
   "execution_count": 18,
   "metadata": {},
   "outputs": [],
   "source": [
    "school_data_grouped_df = pd.DataFrame(school_data_grouped)\n",
    "school_data_grouped_df[\"Total Budget\"] = totat_school_budget\n",
    "school_data_grouped_df[\"Per Student Budget\"] = per_student_budget\n",
    "school_data_grouped_df[\"% Passing Math\"] = percent_math_per_school\n",
    "school_data_grouped_df[\"% Passing Reading\"] = percent_reading_per_school\n",
    "school_data_grouped_df[\"% Overall Passing\"] = percent_overall_pass_per_school\n",
    "school_data_grouped_df[\"Per Student Budget\"] = school_data_grouped_df[\"Per Student Budget\"].map(\"${:.2f}\".format)\n",
    "school_data_grouped_df[\"Total Budget\"] = school_data_grouped_df[\"Total Budget\"].map(\"${:,.0f}\".format)\n",
    "school_data_grouped_df1 = school_data_grouped_df.rename(columns={\"type\": \"School Type\", \"student_name\": \"Total Students\", \n",
    "                                       \"math_score\": \"Average Math Score\", \"reading_score\": \"Average Reading Score\"})"
   ]
  },
  {
   "cell_type": "code",
   "execution_count": 19,
   "metadata": {},
   "outputs": [
    {
     "data": {
      "text/html": [
       "<div>\n",
       "<style scoped>\n",
       "    .dataframe tbody tr th:only-of-type {\n",
       "        vertical-align: middle;\n",
       "    }\n",
       "\n",
       "    .dataframe tbody tr th {\n",
       "        vertical-align: top;\n",
       "    }\n",
       "\n",
       "    .dataframe thead th {\n",
       "        text-align: right;\n",
       "    }\n",
       "</style>\n",
       "<table border=\"1\" class=\"dataframe\">\n",
       "  <thead>\n",
       "    <tr style=\"text-align: right;\">\n",
       "      <th></th>\n",
       "      <th>School Type</th>\n",
       "      <th>Total Students</th>\n",
       "      <th>Total Budget</th>\n",
       "      <th>Per Student Budget</th>\n",
       "      <th>Average Math Score</th>\n",
       "      <th>Average Reading Score</th>\n",
       "      <th>% Passing Math</th>\n",
       "      <th>% Passing Reading</th>\n",
       "      <th>% Overall Passing</th>\n",
       "    </tr>\n",
       "    <tr>\n",
       "      <th>school_name</th>\n",
       "      <th></th>\n",
       "      <th></th>\n",
       "      <th></th>\n",
       "      <th></th>\n",
       "      <th></th>\n",
       "      <th></th>\n",
       "      <th></th>\n",
       "      <th></th>\n",
       "      <th></th>\n",
       "    </tr>\n",
       "  </thead>\n",
       "  <tbody>\n",
       "    <tr>\n",
       "      <th>Bailey High School</th>\n",
       "      <td>[District]</td>\n",
       "      <td>4976</td>\n",
       "      <td>$3,124,928</td>\n",
       "      <td>$628.00</td>\n",
       "      <td>77.05</td>\n",
       "      <td>81.03</td>\n",
       "      <td>66.68%</td>\n",
       "      <td>81.93%</td>\n",
       "      <td>30.35%</td>\n",
       "    </tr>\n",
       "    <tr>\n",
       "      <th>Cabrera High School</th>\n",
       "      <td>[Charter]</td>\n",
       "      <td>1858</td>\n",
       "      <td>$1,081,356</td>\n",
       "      <td>$582.00</td>\n",
       "      <td>83.06</td>\n",
       "      <td>83.98</td>\n",
       "      <td>94.13%</td>\n",
       "      <td>97.04%</td>\n",
       "      <td>50.86%</td>\n",
       "    </tr>\n",
       "    <tr>\n",
       "      <th>Figueroa High School</th>\n",
       "      <td>[District]</td>\n",
       "      <td>2949</td>\n",
       "      <td>$1,884,411</td>\n",
       "      <td>$639.00</td>\n",
       "      <td>76.71</td>\n",
       "      <td>81.16</td>\n",
       "      <td>65.99%</td>\n",
       "      <td>80.74%</td>\n",
       "      <td>30.11%</td>\n",
       "    </tr>\n",
       "    <tr>\n",
       "      <th>Ford High School</th>\n",
       "      <td>[District]</td>\n",
       "      <td>2739</td>\n",
       "      <td>$1,763,916</td>\n",
       "      <td>$644.00</td>\n",
       "      <td>77.10</td>\n",
       "      <td>80.75</td>\n",
       "      <td>68.31%</td>\n",
       "      <td>79.30%</td>\n",
       "      <td>30.49%</td>\n",
       "    </tr>\n",
       "    <tr>\n",
       "      <th>Griffin High School</th>\n",
       "      <td>[Charter]</td>\n",
       "      <td>1468</td>\n",
       "      <td>$917,500</td>\n",
       "      <td>$625.00</td>\n",
       "      <td>83.35</td>\n",
       "      <td>83.82</td>\n",
       "      <td>93.39%</td>\n",
       "      <td>97.14%</td>\n",
       "      <td>50.14%</td>\n",
       "    </tr>\n",
       "    <tr>\n",
       "      <th>Hernandez High School</th>\n",
       "      <td>[District]</td>\n",
       "      <td>4635</td>\n",
       "      <td>$3,022,020</td>\n",
       "      <td>$652.00</td>\n",
       "      <td>77.29</td>\n",
       "      <td>80.93</td>\n",
       "      <td>66.75%</td>\n",
       "      <td>80.86%</td>\n",
       "      <td>31.02%</td>\n",
       "    </tr>\n",
       "    <tr>\n",
       "      <th>Holden High School</th>\n",
       "      <td>[Charter]</td>\n",
       "      <td>427</td>\n",
       "      <td>$248,087</td>\n",
       "      <td>$581.00</td>\n",
       "      <td>83.80</td>\n",
       "      <td>83.81</td>\n",
       "      <td>92.51%</td>\n",
       "      <td>96.25%</td>\n",
       "      <td>49.65%</td>\n",
       "    </tr>\n",
       "    <tr>\n",
       "      <th>Huang High School</th>\n",
       "      <td>[District]</td>\n",
       "      <td>2917</td>\n",
       "      <td>$1,910,635</td>\n",
       "      <td>$655.00</td>\n",
       "      <td>76.63</td>\n",
       "      <td>81.18</td>\n",
       "      <td>65.68%</td>\n",
       "      <td>81.32%</td>\n",
       "      <td>29.52%</td>\n",
       "    </tr>\n",
       "    <tr>\n",
       "      <th>Johnson High School</th>\n",
       "      <td>[District]</td>\n",
       "      <td>4761</td>\n",
       "      <td>$3,094,650</td>\n",
       "      <td>$650.00</td>\n",
       "      <td>77.07</td>\n",
       "      <td>80.97</td>\n",
       "      <td>66.06%</td>\n",
       "      <td>81.22%</td>\n",
       "      <td>30.18%</td>\n",
       "    </tr>\n",
       "    <tr>\n",
       "      <th>Pena High School</th>\n",
       "      <td>[Charter]</td>\n",
       "      <td>962</td>\n",
       "      <td>$585,858</td>\n",
       "      <td>$609.00</td>\n",
       "      <td>83.84</td>\n",
       "      <td>84.04</td>\n",
       "      <td>94.59%</td>\n",
       "      <td>95.95%</td>\n",
       "      <td>49.90%</td>\n",
       "    </tr>\n",
       "    <tr>\n",
       "      <th>Rodriguez High School</th>\n",
       "      <td>[District]</td>\n",
       "      <td>3999</td>\n",
       "      <td>$2,547,363</td>\n",
       "      <td>$637.00</td>\n",
       "      <td>76.84</td>\n",
       "      <td>80.74</td>\n",
       "      <td>66.37%</td>\n",
       "      <td>80.22%</td>\n",
       "      <td>29.61%</td>\n",
       "    </tr>\n",
       "    <tr>\n",
       "      <th>Shelton High School</th>\n",
       "      <td>[Charter]</td>\n",
       "      <td>1761</td>\n",
       "      <td>$1,056,600</td>\n",
       "      <td>$600.00</td>\n",
       "      <td>83.36</td>\n",
       "      <td>83.73</td>\n",
       "      <td>93.87%</td>\n",
       "      <td>95.85%</td>\n",
       "      <td>49.74%</td>\n",
       "    </tr>\n",
       "    <tr>\n",
       "      <th>Thomas High School</th>\n",
       "      <td>[Charter]</td>\n",
       "      <td>1635</td>\n",
       "      <td>$1,043,130</td>\n",
       "      <td>$638.00</td>\n",
       "      <td>83.42</td>\n",
       "      <td>83.85</td>\n",
       "      <td>93.27%</td>\n",
       "      <td>97.31%</td>\n",
       "      <td>51.19%</td>\n",
       "    </tr>\n",
       "    <tr>\n",
       "      <th>Wilson High School</th>\n",
       "      <td>[Charter]</td>\n",
       "      <td>2283</td>\n",
       "      <td>$1,319,574</td>\n",
       "      <td>$578.00</td>\n",
       "      <td>83.27</td>\n",
       "      <td>83.99</td>\n",
       "      <td>93.87%</td>\n",
       "      <td>96.54%</td>\n",
       "      <td>49.89%</td>\n",
       "    </tr>\n",
       "    <tr>\n",
       "      <th>Wright High School</th>\n",
       "      <td>[Charter]</td>\n",
       "      <td>1800</td>\n",
       "      <td>$1,049,400</td>\n",
       "      <td>$583.00</td>\n",
       "      <td>83.68</td>\n",
       "      <td>83.95</td>\n",
       "      <td>93.33%</td>\n",
       "      <td>96.61%</td>\n",
       "      <td>51.56%</td>\n",
       "    </tr>\n",
       "  </tbody>\n",
       "</table>\n",
       "</div>"
      ],
      "text/plain": [
       "                      School Type  Total Students Total Budget  \\\n",
       "school_name                                                      \n",
       "Bailey High School     [District]            4976   $3,124,928   \n",
       "Cabrera High School     [Charter]            1858   $1,081,356   \n",
       "Figueroa High School   [District]            2949   $1,884,411   \n",
       "Ford High School       [District]            2739   $1,763,916   \n",
       "Griffin High School     [Charter]            1468     $917,500   \n",
       "Hernandez High School  [District]            4635   $3,022,020   \n",
       "Holden High School      [Charter]             427     $248,087   \n",
       "Huang High School      [District]            2917   $1,910,635   \n",
       "Johnson High School    [District]            4761   $3,094,650   \n",
       "Pena High School        [Charter]             962     $585,858   \n",
       "Rodriguez High School  [District]            3999   $2,547,363   \n",
       "Shelton High School     [Charter]            1761   $1,056,600   \n",
       "Thomas High School      [Charter]            1635   $1,043,130   \n",
       "Wilson High School      [Charter]            2283   $1,319,574   \n",
       "Wright High School      [Charter]            1800   $1,049,400   \n",
       "\n",
       "                      Per Student Budget Average Math Score  \\\n",
       "school_name                                                   \n",
       "Bailey High School               $628.00              77.05   \n",
       "Cabrera High School              $582.00              83.06   \n",
       "Figueroa High School             $639.00              76.71   \n",
       "Ford High School                 $644.00              77.10   \n",
       "Griffin High School              $625.00              83.35   \n",
       "Hernandez High School            $652.00              77.29   \n",
       "Holden High School               $581.00              83.80   \n",
       "Huang High School                $655.00              76.63   \n",
       "Johnson High School              $650.00              77.07   \n",
       "Pena High School                 $609.00              83.84   \n",
       "Rodriguez High School            $637.00              76.84   \n",
       "Shelton High School              $600.00              83.36   \n",
       "Thomas High School               $638.00              83.42   \n",
       "Wilson High School               $578.00              83.27   \n",
       "Wright High School               $583.00              83.68   \n",
       "\n",
       "                      Average Reading Score % Passing Math % Passing Reading  \\\n",
       "school_name                                                                    \n",
       "Bailey High School                    81.03         66.68%            81.93%   \n",
       "Cabrera High School                   83.98         94.13%            97.04%   \n",
       "Figueroa High School                  81.16         65.99%            80.74%   \n",
       "Ford High School                      80.75         68.31%            79.30%   \n",
       "Griffin High School                   83.82         93.39%            97.14%   \n",
       "Hernandez High School                 80.93         66.75%            80.86%   \n",
       "Holden High School                    83.81         92.51%            96.25%   \n",
       "Huang High School                     81.18         65.68%            81.32%   \n",
       "Johnson High School                   80.97         66.06%            81.22%   \n",
       "Pena High School                      84.04         94.59%            95.95%   \n",
       "Rodriguez High School                 80.74         66.37%            80.22%   \n",
       "Shelton High School                   83.73         93.87%            95.85%   \n",
       "Thomas High School                    83.85         93.27%            97.31%   \n",
       "Wilson High School                    83.99         93.87%            96.54%   \n",
       "Wright High School                    83.95         93.33%            96.61%   \n",
       "\n",
       "                      % Overall Passing  \n",
       "school_name                              \n",
       "Bailey High School               30.35%  \n",
       "Cabrera High School              50.86%  \n",
       "Figueroa High School             30.11%  \n",
       "Ford High School                 30.49%  \n",
       "Griffin High School              50.14%  \n",
       "Hernandez High School            31.02%  \n",
       "Holden High School               49.65%  \n",
       "Huang High School                29.52%  \n",
       "Johnson High School              30.18%  \n",
       "Pena High School                 49.90%  \n",
       "Rodriguez High School            29.61%  \n",
       "Shelton High School              49.74%  \n",
       "Thomas High School               51.19%  \n",
       "Wilson High School               49.89%  \n",
       "Wright High School               51.56%  "
      ]
     },
     "execution_count": 19,
     "metadata": {},
     "output_type": "execute_result"
    }
   ],
   "source": [
    "# Rearranging and formatting columns\n",
    "column_names = [\"School Type\", \n",
    "                \"Total Students\", \n",
    "                \"Total Budget\", \n",
    "                \"Per Student Budget\", \n",
    "                \"Average Math Score\", \n",
    "                \"Average Reading Score\", \n",
    "                \"% Passing Math\", \n",
    "                \"% Passing Reading\", \n",
    "                \"% Overall Passing\"]\n",
    "summary_schools = school_data_grouped_df1.reindex(columns=column_names)\n",
    "summary_schools[\"Average Math Score\"] = summary_schools[\"Average Math Score\"].map(\"{:,.2f}\".format)\n",
    "summary_schools[\"Average Reading Score\"] = summary_schools[\"Average Reading Score\"].map(\"{:,.2f}\".format)\n",
    "summary_schools[\"% Passing Math\"] = summary_schools[\"% Passing Math\"].map(\"{:,.2f}%\".format)\n",
    "summary_schools[\"% Passing Reading\"] = summary_schools[\"% Passing Reading\"].map(\"{:,.2f}%\".format)\n",
    "summary_schools[\"% Overall Passing\"] = summary_schools[\"% Overall Passing\"].map(\"{:,.2f}%\".format)\n",
    "summary_schools"
   ]
  },
  {
   "cell_type": "markdown",
   "metadata": {},
   "source": [
    "## Top Performing Schools (By % Overall Passing)"
   ]
  },
  {
   "cell_type": "markdown",
   "metadata": {},
   "source": [
    "* Sort and display the top five performing schools by % overall passing."
   ]
  },
  {
   "cell_type": "code",
   "execution_count": null,
   "metadata": {
    "scrolled": true
   },
   "outputs": [],
   "source": []
  },
  {
   "cell_type": "markdown",
   "metadata": {},
   "source": [
    "## Bottom Performing Schools (By % Overall Passing)"
   ]
  },
  {
   "cell_type": "markdown",
   "metadata": {},
   "source": [
    "* Sort and display the five worst-performing schools by % overall passing."
   ]
  },
  {
   "cell_type": "code",
   "execution_count": null,
   "metadata": {},
   "outputs": [],
   "source": []
  },
  {
   "cell_type": "markdown",
   "metadata": {
    "collapsed": true
   },
   "source": [
    "## Math Scores by Grade"
   ]
  },
  {
   "cell_type": "markdown",
   "metadata": {},
   "source": [
    "* Create a table that lists the average Reading Score for students of each grade level (9th, 10th, 11th, 12th) at each school.\n",
    "\n",
    "  * Create a pandas series for each grade. Hint: use a conditional statement.\n",
    "  \n",
    "  * Group each series by school\n",
    "  \n",
    "  * Combine the series into a dataframe\n",
    "  \n",
    "  * Optional: give the displayed data cleaner formatting"
   ]
  },
  {
   "cell_type": "code",
   "execution_count": null,
   "metadata": {},
   "outputs": [],
   "source": []
  },
  {
   "cell_type": "markdown",
   "metadata": {},
   "source": [
    "## Reading Score by Grade "
   ]
  },
  {
   "cell_type": "markdown",
   "metadata": {},
   "source": [
    "* Perform the same operations as above for reading scores"
   ]
  },
  {
   "cell_type": "code",
   "execution_count": null,
   "metadata": {},
   "outputs": [],
   "source": []
  },
  {
   "cell_type": "markdown",
   "metadata": {},
   "source": [
    "## Scores by School Spending"
   ]
  },
  {
   "cell_type": "markdown",
   "metadata": {},
   "source": [
    "* Create a table that breaks down school performances based on average Spending Ranges (Per Student). Use 4 reasonable bins to group school spending. Include in the table each of the following:\n",
    "  * Average Math Score\n",
    "  * Average Reading Score\n",
    "  * % Passing Math\n",
    "  * % Passing Reading\n",
    "  * Overall Passing Rate (Average of the above two)"
   ]
  },
  {
   "cell_type": "code",
   "execution_count": null,
   "metadata": {},
   "outputs": [],
   "source": []
  },
  {
   "cell_type": "markdown",
   "metadata": {},
   "source": [
    "## Scores by School Size"
   ]
  },
  {
   "cell_type": "markdown",
   "metadata": {},
   "source": [
    "* Perform the same operations as above, based on school size."
   ]
  },
  {
   "cell_type": "code",
   "execution_count": null,
   "metadata": {
    "scrolled": true
   },
   "outputs": [],
   "source": []
  },
  {
   "cell_type": "markdown",
   "metadata": {},
   "source": [
    "## Scores by School Type"
   ]
  },
  {
   "cell_type": "markdown",
   "metadata": {},
   "source": [
    "* Perform the same operations as above, based on school type"
   ]
  },
  {
   "cell_type": "code",
   "execution_count": null,
   "metadata": {},
   "outputs": [],
   "source": []
  },
  {
   "cell_type": "code",
   "execution_count": null,
   "metadata": {},
   "outputs": [],
   "source": []
  }
 ],
 "metadata": {
  "anaconda-cloud": {},
  "kernel_info": {
   "name": "python3"
  },
  "kernelspec": {
   "display_name": "Python [conda env:PythonData] *",
   "language": "python",
   "name": "conda-env-PythonData-py"
  },
  "language_info": {
   "codemirror_mode": {
    "name": "ipython",
    "version": 3
   },
   "file_extension": ".py",
   "mimetype": "text/x-python",
   "name": "python",
   "nbconvert_exporter": "python",
   "pygments_lexer": "ipython3",
   "version": "3.6.10"
  },
  "latex_envs": {
   "LaTeX_envs_menu_present": true,
   "autoclose": false,
   "autocomplete": true,
   "bibliofile": "biblio.bib",
   "cite_by": "apalike",
   "current_citInitial": 1,
   "eqLabelWithNumbers": true,
   "eqNumInitial": 1,
   "hotkeys": {
    "equation": "Ctrl-E",
    "itemize": "Ctrl-I"
   },
   "labels_anchors": false,
   "latex_user_defs": false,
   "report_style_numbering": false,
   "user_envs_cfg": false
  },
  "nteract": {
   "version": "0.8.4"
  }
 },
 "nbformat": 4,
 "nbformat_minor": 1
}
